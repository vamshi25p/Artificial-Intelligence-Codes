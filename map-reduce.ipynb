{
  "nbformat": 4,
  "nbformat_minor": 0,
  "metadata": {
    "colab": {
      "provenance": [],
      "authorship_tag": "ABX9TyOMKR/M9W7e0op+sZ0K5AbX",
      "include_colab_link": true
    },
    "kernelspec": {
      "name": "python3",
      "display_name": "Python 3"
    },
    "language_info": {
      "name": "python"
    }
  },
  "cells": [
    {
      "cell_type": "markdown",
      "metadata": {
        "id": "view-in-github",
        "colab_type": "text"
      },
      "source": [
        "<a href=\"https://colab.research.google.com/github/vamshi25p/Artificial-Intelligence-Codes/blob/main/map-reduce.ipynb\" target=\"_parent\"><img src=\"https://colab.research.google.com/assets/colab-badge.svg\" alt=\"Open In Colab\"/></a>"
      ]
    },
    {
      "cell_type": "code",
      "execution_count": 1,
      "metadata": {
        "colab": {
          "base_uri": "https://localhost:8080/"
        },
        "id": "aGgIQjA5WcxK",
        "outputId": "df66d954-b113-45aa-a3ef-1753a0556803"
      },
      "outputs": [
        {
          "output_type": "stream",
          "name": "stdout",
          "text": [
            "Requirement already satisfied: pyspark in /usr/local/lib/python3.10/dist-packages (3.5.3)\n",
            "Requirement already satisfied: py4j==0.10.9.7 in /usr/local/lib/python3.10/dist-packages (from pyspark) (0.10.9.7)\n"
          ]
        }
      ],
      "source": [
        "!pip install pyspark\n"
      ]
    },
    {
      "cell_type": "code",
      "source": [
        "from pyspark.sql import SparkSession\n",
        "\n",
        "# Initialize Spark session\n",
        "spark = SparkSession.builder.appName(\"TitanicAnalysis\").getOrCreate()\n",
        "\n",
        "# Load dataset\n",
        "titanic_path = \"/titanic.csv\"\n",
        "titanic_df = spark.read.csv(titanic_path, header=True, inferSchema=True)\n",
        "\n",
        "# Display schema and first few rows\n",
        "titanic_df.printSchema()\n",
        "titanic_df.show(5)\n"
      ],
      "metadata": {
        "colab": {
          "base_uri": "https://localhost:8080/"
        },
        "id": "xQhMWpI9XRnj",
        "outputId": "c1769cf4-90b5-4cc4-a2d0-5734a7c53231"
      },
      "execution_count": 2,
      "outputs": [
        {
          "output_type": "stream",
          "name": "stdout",
          "text": [
            "root\n",
            " |-- Survived: integer (nullable = true)\n",
            " |-- Pclass: integer (nullable = true)\n",
            " |-- Name: string (nullable = true)\n",
            " |-- Sex: string (nullable = true)\n",
            " |-- Age: double (nullable = true)\n",
            " |-- Siblings/Spouses Aboard: integer (nullable = true)\n",
            " |-- Parents/Children Aboard: integer (nullable = true)\n",
            " |-- Fare: double (nullable = true)\n",
            "\n",
            "+--------+------+--------------------+------+----+-----------------------+-----------------------+-------+\n",
            "|Survived|Pclass|                Name|   Sex| Age|Siblings/Spouses Aboard|Parents/Children Aboard|   Fare|\n",
            "+--------+------+--------------------+------+----+-----------------------+-----------------------+-------+\n",
            "|       0|     3|Mr. Owen Harris B...|  male|22.0|                      1|                      0|   7.25|\n",
            "|       1|     1|Mrs. John Bradley...|female|38.0|                      1|                      0|71.2833|\n",
            "|       1|     3|Miss. Laina Heikk...|female|26.0|                      0|                      0|  7.925|\n",
            "|       1|     1|Mrs. Jacques Heat...|female|35.0|                      1|                      0|   53.1|\n",
            "|       0|     3|Mr. William Henry...|  male|35.0|                      0|                      0|   8.05|\n",
            "+--------+------+--------------------+------+----+-----------------------+-----------------------+-------+\n",
            "only showing top 5 rows\n",
            "\n"
          ]
        }
      ]
    },
    {
      "cell_type": "code",
      "source": [
        "# Print the schema of the DataFrame to check the column names\n",
        "titanic_df.printSchema()\n"
      ],
      "metadata": {
        "colab": {
          "base_uri": "https://localhost:8080/"
        },
        "id": "T_xcWeZQX_l8",
        "outputId": "dc2a2ba1-878a-4ea0-941f-cb35b8a9a15d"
      },
      "execution_count": 5,
      "outputs": [
        {
          "output_type": "stream",
          "name": "stdout",
          "text": [
            "root\n",
            " |-- Survived: integer (nullable = true)\n",
            " |-- Pclass: integer (nullable = true)\n",
            " |-- Name: string (nullable = true)\n",
            " |-- Sex: string (nullable = true)\n",
            " |-- Age: double (nullable = true)\n",
            " |-- Siblings/Spouses Aboard: integer (nullable = true)\n",
            " |-- Parents/Children Aboard: integer (nullable = true)\n",
            " |-- Fare: double (nullable = true)\n",
            "\n"
          ]
        }
      ]
    },
    {
      "cell_type": "code",
      "source": [
        "# Create an index column (like PassengerId) using zipWithIndex\n",
        "titanic_rdd_with_index = titanic_df.rdd.zipWithIndex()\n",
        "\n",
        "# Now, you can perform a map-side join with the index\n",
        "map_side_join_rdd = titanic_rdd_with_index.map(\n",
        "    lambda row: (row[1], row[0].asDict() | {\"AvgFare\": broadcast_fares.value.get(row[0][\"Pclass\"])})\n",
        ")\n",
        "\n",
        "# Show some results\n",
        "print(map_side_join_rdd.take(5))\n"
      ],
      "metadata": {
        "colab": {
          "base_uri": "https://localhost:8080/"
        },
        "id": "bTvnm63fYGDj",
        "outputId": "512e9938-a693-4cb7-cf67-368b9884b1f5"
      },
      "execution_count": 6,
      "outputs": [
        {
          "output_type": "stream",
          "name": "stdout",
          "text": [
            "[(0, {'Survived': 0, 'Pclass': 3, 'Name': 'Mr. Owen Harris Braund', 'Sex': 'male', 'Age': 22.0, 'Siblings/Spouses Aboard': 1, 'Parents/Children Aboard': 0, 'Fare': 7.25, 'AvgFare': 13.707707392197129}), (1, {'Survived': 1, 'Pclass': 1, 'Name': 'Mrs. John Bradley (Florence Briggs Thayer) Cumings', 'Sex': 'female', 'Age': 38.0, 'Siblings/Spouses Aboard': 1, 'Parents/Children Aboard': 0, 'Fare': 71.2833, 'AvgFare': 84.15468749999992}), (2, {'Survived': 1, 'Pclass': 3, 'Name': 'Miss. Laina Heikkinen', 'Sex': 'female', 'Age': 26.0, 'Siblings/Spouses Aboard': 0, 'Parents/Children Aboard': 0, 'Fare': 7.925, 'AvgFare': 13.707707392197129}), (3, {'Survived': 1, 'Pclass': 1, 'Name': 'Mrs. Jacques Heath (Lily May Peel) Futrelle', 'Sex': 'female', 'Age': 35.0, 'Siblings/Spouses Aboard': 1, 'Parents/Children Aboard': 0, 'Fare': 53.1, 'AvgFare': 84.15468749999992}), (4, {'Survived': 0, 'Pclass': 3, 'Name': 'Mr. William Henry Allen', 'Sex': 'male', 'Age': 35.0, 'Siblings/Spouses Aboard': 0, 'Parents/Children Aboard': 0, 'Fare': 8.05, 'AvgFare': 13.707707392197129})]\n"
          ]
        }
      ]
    },
    {
      "cell_type": "code",
      "source": [
        "# Step 1: Convert the broadcasted fares dictionary into an RDD\n",
        "broadcast_fares_rdd = spark.sparkContext.parallelize(broadcast_fares.value.items())\n",
        "\n",
        "# Step 2: Perform the join between the Titanic RDD and the broadcasted fares RDD\n",
        "reduced_join_rdd = join_rdd.join(broadcast_fares_rdd)\n",
        "\n",
        "# Show the result of the reduce-side join\n",
        "print(reduced_join_rdd.take(5))\n"
      ],
      "metadata": {
        "colab": {
          "base_uri": "https://localhost:8080/"
        },
        "id": "stI7etIrYfmj",
        "outputId": "ee7eddac-69a2-4d21-8656-9a511aac39c7"
      },
      "execution_count": 9,
      "outputs": [
        {
          "output_type": "stream",
          "name": "stdout",
          "text": [
            "[(3, (Row(Survived=0, Pclass=3, Name='Mr. Owen Harris Braund', Sex='male', Age=22.0, Siblings/Spouses Aboard=1, Parents/Children Aboard=0, Fare=7.25), 13.707707392197129)), (3, (Row(Survived=1, Pclass=3, Name='Miss. Laina Heikkinen', Sex='female', Age=26.0, Siblings/Spouses Aboard=0, Parents/Children Aboard=0, Fare=7.925), 13.707707392197129)), (3, (Row(Survived=0, Pclass=3, Name='Mr. William Henry Allen', Sex='male', Age=35.0, Siblings/Spouses Aboard=0, Parents/Children Aboard=0, Fare=8.05), 13.707707392197129)), (3, (Row(Survived=0, Pclass=3, Name='Mr. James Moran', Sex='male', Age=27.0, Siblings/Spouses Aboard=0, Parents/Children Aboard=0, Fare=8.4583), 13.707707392197129)), (3, (Row(Survived=0, Pclass=3, Name='Master. Gosta Leonard Palsson', Sex='male', Age=2.0, Siblings/Spouses Aboard=3, Parents/Children Aboard=1, Fare=21.075), 13.707707392197129))]\n"
          ]
        }
      ]
    },
    {
      "cell_type": "code",
      "source": [
        "# Word count task: Count the frequency of names in the dataset\n",
        "name_rdd = titanic_df.rdd.map(lambda row: row[\"Name\"]) \\\n",
        "                         .flatMap(lambda name: name.split()) \\\n",
        "                         .map(lambda word: (word.lower(), 1)) \\\n",
        "                         .reduceByKey(lambda a, b: a + b)\n",
        "\n",
        "# Show the result of word count\n",
        "print(name_rdd.take(5))\n"
      ],
      "metadata": {
        "colab": {
          "base_uri": "https://localhost:8080/"
        },
        "id": "KNI4T7OIYstT",
        "outputId": "c3d386da-3dbf-438b-cb06-d0ae2744e39b"
      },
      "execution_count": 11,
      "outputs": [
        {
          "output_type": "stream",
          "name": "stdout",
          "text": [
            "[('mr.', 513), ('owen', 2), ('harris', 5), ('braund', 2), ('mrs.', 125)]\n"
          ]
        }
      ]
    },
    {
      "cell_type": "code",
      "source": [
        "# Filter passengers who survived\n",
        "survived_rdd = titanic_df.rdd.filter(lambda row: row[\"Survived\"] == 1)\n",
        "\n",
        "# Show some results of survivors\n",
        "print(survived_rdd.take(5))\n"
      ],
      "metadata": {
        "colab": {
          "base_uri": "https://localhost:8080/"
        },
        "id": "7JPO_mOmYvyc",
        "outputId": "35e92de4-350c-4482-f727-7635685be080"
      },
      "execution_count": 12,
      "outputs": [
        {
          "output_type": "stream",
          "name": "stdout",
          "text": [
            "[Row(Survived=1, Pclass=1, Name='Mrs. John Bradley (Florence Briggs Thayer) Cumings', Sex='female', Age=38.0, Siblings/Spouses Aboard=1, Parents/Children Aboard=0, Fare=71.2833), Row(Survived=1, Pclass=3, Name='Miss. Laina Heikkinen', Sex='female', Age=26.0, Siblings/Spouses Aboard=0, Parents/Children Aboard=0, Fare=7.925), Row(Survived=1, Pclass=1, Name='Mrs. Jacques Heath (Lily May Peel) Futrelle', Sex='female', Age=35.0, Siblings/Spouses Aboard=1, Parents/Children Aboard=0, Fare=53.1), Row(Survived=1, Pclass=3, Name='Mrs. Oscar W (Elisabeth Vilhelmina Berg) Johnson', Sex='female', Age=27.0, Siblings/Spouses Aboard=0, Parents/Children Aboard=2, Fare=11.1333), Row(Survived=1, Pclass=2, Name='Mrs. Nicholas (Adele Achem) Nasser', Sex='female', Age=14.0, Siblings/Spouses Aboard=1, Parents/Children Aboard=0, Fare=30.0708)]\n"
          ]
        }
      ]
    },
    {
      "cell_type": "code",
      "source": [
        "# Save the result of the map-side join to a text file\n",
        "map_side_join_rdd.saveAsTextFile(\"/content/titanic_map_side_join_result.txt\")\n"
      ],
      "metadata": {
        "id": "6RHJSDy3Y2Ts"
      },
      "execution_count": 13,
      "outputs": []
    },
    {
      "cell_type": "code",
      "source": [
        "reduced_join_rdd.saveAsTextFile(\"/content/titanic_reduce_side_join_result.txt\")"
      ],
      "metadata": {
        "id": "Z61NiWWoZdHk"
      },
      "execution_count": 15,
      "outputs": []
    },
    {
      "cell_type": "code",
      "source": [
        "name_rdd.saveAsTextFile(\"/content/titanic_word_count_result.txt\")"
      ],
      "metadata": {
        "id": "am1_ub5EZrsA"
      },
      "execution_count": 16,
      "outputs": []
    },
    {
      "cell_type": "code",
      "source": [
        "survived_rdd.saveAsTextFile(\"/content/titanic_survived_result.txt\")"
      ],
      "metadata": {
        "id": "zAOBTHdxZwAo"
      },
      "execution_count": 17,
      "outputs": []
    }
  ]
}